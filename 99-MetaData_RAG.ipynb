{
 "cells": [
  {
   "cell_type": "code",
   "execution_count": 4,
   "metadata": {},
   "outputs": [],
   "source": [
    "import os\n",
    "from langchain.chains import RetrievalQA\n",
    "from langchain.embeddings import OpenAIEmbeddings\n",
    "from langchain.llms import OpenAI\n",
    "from langchain.text_splitter import CharacterTextSplitter\n",
    "from langchain.text_splitter import RecursiveCharacterTextSplitter\n",
    "from langchain.vectorstores import Chroma\n",
    "from langchain.docstore.document import Document\n",
    "import json"
   ]
  },
  {
   "cell_type": "code",
   "execution_count": 5,
   "metadata": {},
   "outputs": [],
   "source": [
    "companies = []\n",
    "\n",
    "def load():\n",
    "    docs=[]\n",
    "    for company in companies:\n",
    "        text = \"\"\n",
    "        text += \"cik: \" + company['cik'] + \"\\n\"\n",
    "        text += f\"entityType: {company['entityType']}\\n\"\n",
    "        text += f\"sicDescription: {company['sicDescription']}\\n\"\n",
    "\n",
    "        # Handle the 'tickers' field, which is an array\n",
    "        tickers = ', '.join(company['tickers'])\n",
    "        text += f\"tickers: {tickers}\\n\"\n",
    "        \n",
    "        # Handle the 'exchanges' field, which is also an array\n",
    "        exchanges = ', '.join(company['exchanges'])\n",
    "        text += f\"exchanges: {exchanges}\\n\"\n",
    "        text += f\"ein: {company['ein']}\\n\"\n",
    "        text += f\"category: {company['category']}\\n\"\n",
    "        text += f\"stateOfIncorporation: {company['stateOfIncorporation']}\\n\"\n",
    "        text += f\"fiscalYearEnd: {company['fiscalYearEnd']}\\n\"\n",
    "        \n",
    "        metadata = dict(\n",
    "            #source=company['id'],\n",
    "            name=company['name']\n",
    "        )\n",
    "        doc = Document(page_content=text, metadata=metadata)\n",
    "        docs.append(doc)\n",
    "    return docs\n",
    "\n",
    "#data = load()"
   ]
  },
  {
   "cell_type": "code",
   "execution_count": 6,
   "metadata": {},
   "outputs": [],
   "source": [
    "# Read the JSON file and load it into a Python data structure\n",
    "with open('/Users/qlin/Desktop/Fall2023/NoSQL/Project/Final_Project/filingMetadata.json', 'r') as file:\n",
    "    companies = json.load(file)\n",
    "\n",
    "# Pass the loaded data to your load function\n",
    "data = load()"
   ]
  },
  {
   "cell_type": "code",
   "execution_count": 7,
   "metadata": {},
   "outputs": [
    {
     "data": {
      "text/plain": [
       "[Document(page_content='cik: 320193\\nentityType: operating\\nsicDescription: Electronic Computers\\ntickers: AAPL\\nexchanges: Nasdaq\\nein: 942404110\\ncategory: Large accelerated filer\\nstateOfIncorporation: CA\\nfiscalYearEnd: 0930\\n', metadata={'name': 'Apple Inc.'}),\n",
       " Document(page_content='cik: 0000789019\\nentityType: operating\\nsicDescription: Services-Prepackaged Software\\ntickers: MSFT\\nexchanges: Nasdaq\\nein: 911144442\\ncategory: Large accelerated filer\\nstateOfIncorporation: WA\\nfiscalYearEnd: 0630\\n', metadata={'name': 'MICROSOFT CORP'}),\n",
       " Document(page_content='cik: 0001652044\\nentityType: operating\\nsicDescription: Services-Computer Programming, Data Processing, Etc.\\ntickers: GOOGL, GOOG\\nexchanges: Nasdaq, Nasdaq\\nein: 611767919\\ncategory: Large accelerated filer\\nstateOfIncorporation: DE\\nfiscalYearEnd: 1231\\n', metadata={'name': 'Alphabet Inc.'}),\n",
       " Document(page_content='cik: 0001652044\\nentityType: operating\\nsicDescription: Services-Computer Programming, Data Processing, Etc.\\ntickers: GOOGL, GOOG\\nexchanges: Nasdaq, Nasdaq\\nein: 611767919\\ncategory: Large accelerated filer\\nstateOfIncorporation: DE\\nfiscalYearEnd: 1231\\n', metadata={'name': 'Alphabet Inc.'}),\n",
       " Document(page_content='cik: 1018724\\nentityType: operating\\nsicDescription: Retail-Catalog & Mail-Order Houses\\ntickers: AMZN\\nexchanges: Nasdaq\\nein: 911646860\\ncategory: Large accelerated filer\\nstateOfIncorporation: DE\\nfiscalYearEnd: 1231\\n', metadata={'name': 'AMAZON COM INC'}),\n",
       " Document(page_content='cik: 1045810\\nentityType: operating\\nsicDescription: Semiconductors & Related Devices\\ntickers: NVDA\\nexchanges: Nasdaq\\nein: 943177549\\ncategory: Large accelerated filer\\nstateOfIncorporation: DE\\nfiscalYearEnd: 0128\\n', metadata={'name': 'NVIDIA CORP'}),\n",
       " Document(page_content='cik: 1067983\\nentityType: operating\\nsicDescription: Fire, Marine & Casualty Insurance\\ntickers: BRK-B, BRK-A\\nexchanges: NYSE, NYSE\\nein: 470813844\\ncategory: Large accelerated filer\\nstateOfIncorporation: DE\\nfiscalYearEnd: 1231\\n', metadata={'name': 'BERKSHIRE HATHAWAY INC'}),\n",
       " Document(page_content='cik: 1326801\\nentityType: operating\\nsicDescription: Services-Computer Programming, Data Processing, Etc.\\ntickers: META\\nexchanges: Nasdaq\\nein: 201665019\\ncategory: Large accelerated filer\\nstateOfIncorporation: DE\\nfiscalYearEnd: 1231\\n', metadata={'name': 'Meta Platforms, Inc.'}),\n",
       " Document(page_content='cik: 1318605\\nentityType: operating\\nsicDescription: Motor Vehicles & Passenger Car Bodies\\ntickers: TSLA\\nexchanges: Nasdaq\\nein: 912197729\\ncategory: Large accelerated filer\\nstateOfIncorporation: DE\\nfiscalYearEnd: 1231\\n', metadata={'name': 'Tesla, Inc.'}),\n",
       " Document(page_content='cik: 59478\\nentityType: operating\\nsicDescription: Pharmaceutical Preparations\\ntickers: LLY\\nexchanges: NYSE\\nein: 350470950\\ncategory: Large accelerated filer\\nstateOfIncorporation: IN\\nfiscalYearEnd: 1231\\n', metadata={'name': 'ELI LILLY & Co'}),\n",
       " Document(page_content='cik: 1403161\\nentityType: operating\\nsicDescription: Services-Business Services, NEC\\ntickers: V\\nexchanges: NYSE\\nein: 260267673\\ncategory: Large accelerated filer\\nstateOfIncorporation: DE\\nfiscalYearEnd: 0930\\n', metadata={'name': 'VISA INC.'}),\n",
       " Document(page_content='cik: 731766\\nentityType: operating\\nsicDescription: Hospital & Medical Service Plans\\ntickers: UNH\\nexchanges: NYSE\\nein: 411321939\\ncategory: Large accelerated filer\\nstateOfIncorporation: DE\\nfiscalYearEnd: 1231\\n', metadata={'name': 'UNITEDHEALTH GROUP INC'}),\n",
       " Document(page_content='cik: 200406\\nentityType: operating\\nsicDescription: Pharmaceutical Preparations\\ntickers: JNJ\\nexchanges: NYSE\\nein: 221024240\\ncategory: Large accelerated filer\\nstateOfIncorporation: NJ\\nfiscalYearEnd: 1231\\n', metadata={'name': 'JOHNSON & JOHNSON'}),\n",
       " Document(page_content='cik: 34088\\nentityType: operating\\nsicDescription: Petroleum Refining\\ntickers: XOM\\nexchanges: NYSE\\nein: 135409005\\ncategory: Large accelerated filer\\nstateOfIncorporation: NJ\\nfiscalYearEnd: 1231\\n', metadata={'name': 'EXXON MOBIL CORP'}),\n",
       " Document(page_content='cik: 0000019617\\nentityType: operating\\nsicDescription: National Commercial Banks\\ntickers: JPM, JPM-PC, JPM-PD, AMJ, JPM-PJ, JPM-PK, JPM-PL, JPM-PM\\nexchanges: NYSE, NYSE, NYSE, NYSE, NYSE, NYSE, NYSE, NYSE\\nein: 132624428\\ncategory: Large accelerated filer\\nstateOfIncorporation: DE\\nfiscalYearEnd: 1231\\n', metadata={'name': 'JPMORGAN CHASE & CO'}),\n",
       " Document(page_content='cik: 104169\\nentityType: operating\\nsicDescription: Retail-Variety Stores\\ntickers: WMT\\nexchanges: NYSE\\nein: 710415188\\ncategory: Large accelerated filer\\nstateOfIncorporation: DE\\nfiscalYearEnd: 0131\\n', metadata={'name': 'Walmart Inc.'}),\n",
       " Document(page_content='cik: 1141391\\nentityType: operating\\nsicDescription: Services-Business Services, NEC\\ntickers: MA\\nexchanges: NYSE\\nein: 134172551\\ncategory: Large accelerated filer\\nstateOfIncorporation: DE\\nfiscalYearEnd: 1231\\n', metadata={'name': 'Mastercard Inc'}),\n",
       " Document(page_content='cik: 0000080424\\nentityType: operating\\nsicDescription: Soap, Detergents, Cleang Preparations, Perfumes, Cosmetics\\ntickers: PG\\nexchanges: NYSE\\nein: 310411980\\ncategory: Large accelerated filer\\nstateOfIncorporation: OH\\nfiscalYearEnd: 0630\\n', metadata={'name': 'PROCTER & GAMBLE Co'}),\n",
       " Document(page_content='cik: 1730168\\nentityType: operating\\nsicDescription: Semiconductors & Related Devices\\ntickers: AVGO\\nexchanges: Nasdaq\\nein: 352617337\\ncategory: Large accelerated filer\\nstateOfIncorporation: \\nfiscalYearEnd: 1029\\n', metadata={'name': 'Broadcom Inc.'}),\n",
       " Document(page_content='cik: 0000354950\\nentityType: operating\\nsicDescription: Retail-Lumber & Other Building Materials Dealers\\ntickers: HD\\nexchanges: NYSE\\nein: 953261426\\ncategory: Large accelerated filer\\nstateOfIncorporation: DE\\nfiscalYearEnd: 0128\\n', metadata={'name': 'HOME DEPOT, INC.'}),\n",
       " Document(page_content='cik: 1341439\\nentityType: operating\\nsicDescription: Services-Prepackaged Software\\ntickers: ORCL\\nexchanges: NYSE\\nein: 542185193\\ncategory: Large accelerated filer\\nstateOfIncorporation: \\nfiscalYearEnd: 0531\\n', metadata={'name': 'ORACLE CORP'}),\n",
       " Document(page_content='cik: 93410\\nentityType: operating\\nsicDescription: Petroleum Refining\\ntickers: CVX\\nexchanges: NYSE\\nein: 940890210\\ncategory: Large accelerated filer\\nstateOfIncorporation: DE\\nfiscalYearEnd: 1231\\n', metadata={'name': 'CHEVRON CORP'}),\n",
       " Document(page_content='cik: 310158\\nentityType: operating\\nsicDescription: Pharmaceutical Preparations\\ntickers: MRK\\nexchanges: NYSE\\nein: 221918501\\ncategory: Large accelerated filer\\nstateOfIncorporation: NJ\\nfiscalYearEnd: 1231\\n', metadata={'name': 'Merck & Co., Inc.'}),\n",
       " Document(page_content='cik: 1551152\\nentityType: operating\\nsicDescription: Pharmaceutical Preparations\\ntickers: ABBV\\nexchanges: NYSE\\nein: 320375147\\ncategory: Large accelerated filer\\nstateOfIncorporation: DE\\nfiscalYearEnd: 1231\\n', metadata={'name': 'AbbVie Inc.'}),\n",
       " Document(page_content='cik: 21344\\nentityType: operating\\nsicDescription: Beverages\\ntickers: KO\\nexchanges: NYSE\\nein: 580628465\\ncategory: Large accelerated filer\\nstateOfIncorporation: DE\\nfiscalYearEnd: 1231\\n', metadata={'name': 'COCA COLA CO'}),\n",
       " Document(page_content='cik: 77476\\nentityType: operating\\nsicDescription: Beverages\\ntickers: PEP\\nexchanges: Nasdaq\\nein: 131584302\\ncategory: Large accelerated filer\\nstateOfIncorporation: NC\\nfiscalYearEnd: 1230\\n', metadata={'name': 'PEPSICO INC'}),\n",
       " Document(page_content='cik: 909832\\nentityType: operating\\nsicDescription: Retail-Variety Stores\\ntickers: COST\\nexchanges: Nasdaq\\nein: 911223280\\ncategory: Large accelerated filer\\nstateOfIncorporation: WA\\nfiscalYearEnd: 0903\\n', metadata={'name': 'COSTCO WHOLESALE CORP /NEW'}),\n",
       " Document(page_content='cik: 796343\\nentityType: operating\\nsicDescription: Services-Prepackaged Software\\ntickers: ADBE\\nexchanges: Nasdaq\\nein: 770019522\\ncategory: Large accelerated filer\\nstateOfIncorporation: DE\\nfiscalYearEnd: 1201\\n', metadata={'name': 'ADOBE INC.'}),\n",
       " Document(page_content='cik: 0000070858\\nentityType: operating\\nsicDescription: National Commercial Banks\\ntickers: BAC, BML-PG, BML-PH, BML-PL, BML-PJ, BAC-PB, BAC-PK, BAC-PE, BAC-PL, BAC-PM, BAC-PN, BAC-PO, BAC-PP, BAC-PQ, BAC-PS, MER-PK\\nexchanges: NYSE, NYSE, NYSE, NYSE, NYSE, NYSE, NYSE, NYSE, NYSE, NYSE, NYSE, NYSE, NYSE, NYSE, NYSE, NYSE\\nein: 560906609\\ncategory: Large accelerated filer\\nstateOfIncorporation: DE\\nfiscalYearEnd: 1231\\n', metadata={'name': 'BANK OF AMERICA CORP /DE/'}),\n",
       " Document(page_content='cik: 858877\\nentityType: operating\\nsicDescription: Computer Communications Equipment\\ntickers: CSCO\\nexchanges: Nasdaq\\nein: 770059951\\ncategory: Large accelerated filer\\nstateOfIncorporation: DE\\nfiscalYearEnd: 0727\\n', metadata={'name': 'CISCO SYSTEMS, INC.'}),\n",
       " Document(page_content='cik: 78003\\nentityType: operating\\nsicDescription: Pharmaceutical Preparations\\ntickers: PFE\\nexchanges: NYSE\\nein: 135315170\\ncategory: Large accelerated filer\\nstateOfIncorporation: DE\\nfiscalYearEnd: 1231\\n', metadata={'name': 'PFIZER INC'}),\n",
       " Document(page_content='cik: 97745\\nentityType: operating\\nsicDescription: Measuring & Controlling Devices, NEC\\ntickers: TMO\\nexchanges: NYSE\\nein: 042209186\\ncategory: Large accelerated filer\\nstateOfIncorporation: DE\\nfiscalYearEnd: 1231\\n', metadata={'name': 'THERMO FISHER SCIENTIFIC INC.'}),\n",
       " Document(page_content='cik: 63908\\nentityType: operating\\nsicDescription: Retail-Eating  Places\\ntickers: MCD\\nexchanges: NYSE\\nein: 362361282\\ncategory: Large accelerated filer\\nstateOfIncorporation: DE\\nfiscalYearEnd: 1231\\n', metadata={'name': 'MCDONALDS CORP'}),\n",
       " Document(page_content='cik: 1467373\\nentityType: operating\\nsicDescription: Services-Business Services, NEC\\ntickers: ACN\\nexchanges: NYSE\\nein: 980627530\\ncategory: Large accelerated filer\\nstateOfIncorporation: L2\\nfiscalYearEnd: 0831\\n', metadata={'name': 'Accenture plc'}),\n",
       " Document(page_content='cik: 1108524\\nentityType: operating\\nsicDescription: Services-Prepackaged Software\\ntickers: CRM\\nexchanges: NYSE\\nein: 943320693\\ncategory: Large accelerated filer\\nstateOfIncorporation: DE\\nfiscalYearEnd: 0131\\n', metadata={'name': 'Salesforce, Inc.'}),\n",
       " Document(page_content='cik: 1166691\\nentityType: operating\\nsicDescription: Cable & Other Pay Television Services\\ntickers: CMCSA, CCZ\\nexchanges: Nasdaq, NYSE\\nein: 270000798\\ncategory: Large accelerated filer\\nstateOfIncorporation: PA\\nfiscalYearEnd: 1231\\n', metadata={'name': 'COMCAST CORP'}),\n",
       " Document(page_content='cik: 313616\\nentityType: operating\\nsicDescription: Industrial Instruments For Measurement, Display, and Control\\ntickers: DHR\\nexchanges: NYSE\\nein: 591995548\\ncategory: Large accelerated filer\\nstateOfIncorporation: DE\\nfiscalYearEnd: 1231\\n', metadata={'name': 'DANAHER CORP /DE/'}),\n",
       " Document(page_content='cik: 1707925\\nentityType: operating\\nsicDescription: Industrial Inorganic Chemicals\\ntickers: LIN\\nexchanges: Nasdaq\\nein: 000000000\\ncategory: Large accelerated filer\\nstateOfIncorporation: L2\\nfiscalYearEnd: 1231\\n', metadata={'name': 'LINDE PLC'}),\n",
       " Document(page_content='cik: 1800\\nentityType: operating\\nsicDescription: Pharmaceutical Preparations\\ntickers: ABT\\nexchanges: NYSE\\nein: 360698440\\ncategory: Large accelerated filer\\nstateOfIncorporation: IL\\nfiscalYearEnd: 1231\\n', metadata={'name': 'ABBOTT LABORATORIES'}),\n",
       " Document(page_content='cik: 1065280\\nentityType: operating\\nsicDescription: Services-Video Tape Rental\\ntickers: NFLX\\nexchanges: Nasdaq\\nein: 770467272\\ncategory: Large accelerated filer\\nstateOfIncorporation: DE\\nfiscalYearEnd: 1231\\n', metadata={'name': 'NETFLIX INC'}),\n",
       " Document(page_content='cik: 2488\\nentityType: operating\\nsicDescription: Semiconductors & Related Devices\\ntickers: AMD\\nexchanges: Nasdaq\\nein: 941692300\\ncategory: Large accelerated filer\\nstateOfIncorporation: DE\\nfiscalYearEnd: 1230\\n', metadata={'name': 'ADVANCED MICRO DEVICES INC'}),\n",
       " Document(page_content='cik: 320187\\nentityType: operating\\nsicDescription: Rubber & Plastics Footwear\\ntickers: NKE\\nexchanges: NYSE\\nein: 930584541\\ncategory: Large accelerated filer\\nstateOfIncorporation: OR\\nfiscalYearEnd: 0531\\n', metadata={'name': 'NIKE, Inc.'}),\n",
       " Document(page_content='cik: 1283699\\nentityType: operating\\nsicDescription: Radiotelephone Communications\\ntickers: TMUS\\nexchanges: Nasdaq\\nein: 200836269\\ncategory: Large accelerated filer\\nstateOfIncorporation: DE\\nfiscalYearEnd: 1231\\n', metadata={'name': 'T-Mobile US, Inc.'}),\n",
       " Document(page_content='cik: 1744489\\nentityType: operating\\nsicDescription: Services-Miscellaneous Amusement & Recreation\\ntickers: DIS\\nexchanges: NYSE\\nein: 830940635\\ncategory: Large accelerated filer\\nstateOfIncorporation: DE\\nfiscalYearEnd: 0930\\n', metadata={'name': 'Walt Disney Co'}),\n",
       " Document(page_content='cik: 0000072971\\nentityType: operating\\nsicDescription: National Commercial Banks\\ntickers: WFC, WFC-PR, WFC-PY, WFC-PL, WFC-PC, WFC-PA, WFC-PD, WFC-PZ\\nexchanges: NYSE, NYSE, NYSE, NYSE, NYSE, NYSE, NYSE, NYSE\\nein: 410449260\\ncategory: Large accelerated filer\\nstateOfIncorporation: DE\\nfiscalYearEnd: 1231\\n', metadata={'name': 'WELLS FARGO & COMPANY/MN'}),\n",
       " Document(page_content='cik: 97476\\nentityType: operating\\nsicDescription: Semiconductors & Related Devices\\ntickers: TXN\\nexchanges: Nasdaq\\nein: 750289970\\ncategory: Large accelerated filer\\nstateOfIncorporation: DE\\nfiscalYearEnd: 1231\\n', metadata={'name': 'TEXAS INSTRUMENTS INC'}),\n",
       " Document(page_content='cik: 1413329\\nentityType: operating\\nsicDescription: Cigarettes\\ntickers: PM\\nexchanges: NYSE\\nein: 133435103\\ncategory: Large accelerated filer\\nstateOfIncorporation: VA\\nfiscalYearEnd: 1231\\n', metadata={'name': 'Philip Morris International Inc.'}),\n",
       " Document(page_content='cik: 1090727\\nentityType: operating\\nsicDescription: Trucking & Courier Services (No Air)\\ntickers: UPS\\nexchanges: NYSE\\nein: 582480149\\ncategory: Large accelerated filer\\nstateOfIncorporation: DE\\nfiscalYearEnd: 1231\\n', metadata={'name': 'UNITED PARCEL SERVICE INC'}),\n",
       " Document(page_content='cik: 0000895421\\nentityType: operating\\nsicDescription: Security Brokers, Dealers & Flotation Companies\\ntickers: MS, MS-PA, MS-PK, MS-PI, MS-PF, MS-PE, MS-PL, MS-PO, MS-PP\\nexchanges: NYSE, NYSE, NYSE, NYSE, NYSE, NYSE, NYSE, NYSE, NYSE\\nein: 363145972\\ncategory: Large accelerated filer\\nstateOfIncorporation: DE\\nfiscalYearEnd: 1231\\n', metadata={'name': 'MORGAN STANLEY'}),\n",
       " Document(page_content='cik: 1163165\\nentityType: operating\\nsicDescription: Petroleum Refining\\ntickers: COP\\nexchanges: NYSE\\nein: 010562944\\ncategory: Large accelerated filer\\nstateOfIncorporation: DE\\nfiscalYearEnd: 1231\\n', metadata={'name': 'CONOCOPHILLIPS'}),\n",
       " Document(page_content='cik: 318154\\nentityType: operating\\nsicDescription: Biological Products, (No Diagnostic Substances)\\ntickers: AMGN\\nexchanges: Nasdaq\\nein: 953540776\\ncategory: Large accelerated filer\\nstateOfIncorporation: DE\\nfiscalYearEnd: 1231\\n', metadata={'name': 'AMGEN INC'}),\n",
       " Document(page_content='cik: 18230\\nentityType: operating\\nsicDescription: Construction Machinery & Equip\\ntickers: CAT\\nexchanges: NYSE\\nein: 370602744\\ncategory: Large accelerated filer\\nstateOfIncorporation: TX\\nfiscalYearEnd: 1231\\n', metadata={'name': 'CATERPILLAR INC'}),\n",
       " Document(page_content='cik: 732712\\nentityType: operating\\nsicDescription: Telephone Communications (No Radiotelephone)\\ntickers: VZ\\nexchanges: NYSE\\nein: 232259884\\ncategory: Large accelerated filer\\nstateOfIncorporation: DE\\nfiscalYearEnd: 1231\\n', metadata={'name': 'VERIZON COMMUNICATIONS INC'}),\n",
       " Document(page_content='cik: 100885\\nentityType: operating\\nsicDescription: Railroads, Line-Haul Operating\\ntickers: UNP\\nexchanges: NYSE\\nein: 132626465\\ncategory: Large accelerated filer\\nstateOfIncorporation: UT\\nfiscalYearEnd: 1231\\n', metadata={'name': 'UNION PACIFIC CORP'}),\n",
       " Document(page_content='cik: 753308\\nentityType: operating\\nsicDescription: Electric Services\\ntickers: NEE, NEE-PN, NEE-PR\\nexchanges: NYSE, NYSE, NYSE\\nein: 592449419\\ncategory: Large accelerated filer\\nstateOfIncorporation: FL\\nfiscalYearEnd: 1231\\n', metadata={'name': 'NEXTERA ENERGY INC'}),\n",
       " Document(page_content='cik: 50863\\nentityType: operating\\nsicDescription: Semiconductors & Related Devices\\ntickers: INTC\\nexchanges: Nasdaq\\nein: 941672743\\ncategory: Large accelerated filer\\nstateOfIncorporation: DE\\nfiscalYearEnd: 1228\\n', metadata={'name': 'INTEL CORP'}),\n",
       " Document(page_content='cik: 12927\\nentityType: operating\\nsicDescription: Aircraft\\ntickers: BA\\nexchanges: NYSE\\nein: 910425694\\ncategory: Large accelerated filer\\nstateOfIncorporation: DE\\nfiscalYearEnd: 1231\\n', metadata={'name': 'BOEING CO'}),\n",
       " Document(page_content='cik: 896878\\nentityType: operating\\nsicDescription: Services-Prepackaged Software\\ntickers: INTU\\nexchanges: Nasdaq\\nein: 770034661\\ncategory: Large accelerated filer\\nstateOfIncorporation: DE\\nfiscalYearEnd: 0731\\n', metadata={'name': 'INTUIT INC.'}),\n",
       " Document(page_content='cik: 14272\\nentityType: operating\\nsicDescription: Pharmaceutical Preparations\\ntickers: BMY, CELG-RI\\nexchanges: NYSE, NYSE\\nein: 220790350\\ncategory: Large accelerated filer\\nstateOfIncorporation: DE\\nfiscalYearEnd: 1231\\n', metadata={'name': 'BRISTOL MYERS SQUIBB CO'}),\n",
       " Document(page_content='cik: 51143\\nentityType: operating\\nsicDescription: Computer & office Equipment\\ntickers: IBM\\nexchanges: NYSE\\nein: 130871985\\ncategory: Large accelerated filer\\nstateOfIncorporation: NY\\nfiscalYearEnd: 1231\\n', metadata={'name': 'INTERNATIONAL BUSINESS MACHINES CORP'}),\n",
       " Document(page_content='cik: 60667\\nentityType: operating\\nsicDescription: Retail-Lumber & Other Building Materials Dealers\\ntickers: LOW\\nexchanges: NYSE\\nein: 560578072\\ncategory: Large accelerated filer\\nstateOfIncorporation: NC\\nfiscalYearEnd: 0202\\n', metadata={'name': 'LOWES COMPANIES INC'}),\n",
       " Document(page_content='cik: 101829\\nentityType: operating\\nsicDescription: Aircraft Engines & Engine Parts\\ntickers: RTX\\nexchanges: NYSE\\nein: 060570975\\ncategory: Large accelerated filer\\nstateOfIncorporation: DE\\nfiscalYearEnd: 1231\\n', metadata={'name': 'RTX Corp'}),\n",
       " Document(page_content='cik: 773840\\nentityType: operating\\nsicDescription: Aircraft Engines & Engine Parts\\ntickers: HON\\nexchanges: Nasdaq\\nein: 222640650\\ncategory: Large accelerated filer\\nstateOfIncorporation: DE\\nfiscalYearEnd: 1231\\n', metadata={'name': 'HONEYWELL INTERNATIONAL INC'}),\n",
       " Document(page_content='cik: 804328\\nentityType: operating\\nsicDescription: Radio & Tv Broadcasting & Communications Equipment\\ntickers: QCOM\\nexchanges: Nasdaq\\nein: 953685934\\ncategory: Large accelerated filer\\nstateOfIncorporation: DE\\nfiscalYearEnd: 0924\\n', metadata={'name': 'QUALCOMM INC/DE'}),\n",
       " Document(page_content='cik: 0000040545\\nentityType: operating\\nsicDescription: Electronic & Other Electrical Equipment (No Computer Equip)\\ntickers: GE\\nexchanges: NYSE\\nein: 140689340\\ncategory: Large accelerated filer\\nstateOfIncorporation: NY\\nfiscalYearEnd: 1231\\n', metadata={'name': 'GENERAL ELECTRIC CO'}),\n",
       " Document(page_content='cik: 64040\\nentityType: operating\\nsicDescription: Services-Consumer Credit Reporting, Collection Agencies\\ntickers: SPGI\\nexchanges: NYSE\\nein: 131026995\\ncategory: Large accelerated filer\\nstateOfIncorporation: NY\\nfiscalYearEnd: 1231\\n', metadata={'name': 'S&P Global Inc.'}),\n",
       " Document(page_content='cik: 6951\\nentityType: operating\\nsicDescription: Semiconductors & Related Devices\\ntickers: AMAT\\nexchanges: Nasdaq\\nein: 941655526\\ncategory: Large accelerated filer\\nstateOfIncorporation: DC\\nfiscalYearEnd: 1029\\n', metadata={'name': 'APPLIED MATERIALS INC /DE'}),\n",
       " Document(page_content='cik: 4962\\nentityType: operating\\nsicDescription: Finance Services\\ntickers: AXP\\nexchanges: NYSE\\nein: 134922250\\ncategory: Large accelerated filer\\nstateOfIncorporation: NY\\nfiscalYearEnd: 1231\\n', metadata={'name': 'AMERICAN EXPRESS CO'}),\n",
       " Document(page_content='cik: 315189\\nentityType: operating\\nsicDescription: Farm Machinery & Equipment\\ntickers: DE\\nexchanges: NYSE\\nein: 362382580\\ncategory: Large accelerated filer\\nstateOfIncorporation: DE\\nfiscalYearEnd: 1029\\n', metadata={'name': 'DEERE & CO'}),\n",
       " Document(page_content='cik: 1045609\\nentityType: operating\\nsicDescription: Real Estate Investment Trusts\\ntickers: PLD\\nexchanges: NYSE\\nein: 943281941\\ncategory: Large accelerated filer\\nstateOfIncorporation: MD\\nfiscalYearEnd: 1231\\n', metadata={'name': 'Prologis, Inc.'}),\n",
       " Document(page_content='cik: 936468\\nentityType: operating\\nsicDescription: Guided Missiles & Space Vehicles & Parts\\ntickers: LMT\\nexchanges: NYSE\\nein: 521893632\\ncategory: Large accelerated filer\\nstateOfIncorporation: MD\\nfiscalYearEnd: 1231\\n', metadata={'name': 'LOCKHEED MARTIN CORP'}),\n",
       " Document(page_content='cik: 0000829224\\nentityType: operating\\nsicDescription: Retail-Eating & Drinking Places\\ntickers: SBUX\\nexchanges: Nasdaq\\nein: 911325671\\ncategory: Large accelerated filer\\nstateOfIncorporation: WA\\nfiscalYearEnd: 0927\\n', metadata={'name': 'STARBUCKS CORP'}),\n",
       " Document(page_content='cik: 0001373715\\nentityType: operating\\nsicDescription: Services-Prepackaged Software\\ntickers: NOW\\nexchanges: NYSE\\nein: 202056195\\ncategory: Large accelerated filer\\nstateOfIncorporation: \\nfiscalYearEnd: 1231\\n', metadata={'name': 'ServiceNow, Inc.'}),\n",
       " Document(page_content='cik: 1075531\\nentityType: operating\\nsicDescription: Transportation Services\\ntickers: BKNG\\nexchanges: Nasdaq\\nein: 061528493\\ncategory: Large accelerated filer\\nstateOfIncorporation: DE\\nfiscalYearEnd: 1231\\n', metadata={'name': 'Booking Holdings Inc.'}),\n",
       " Document(page_content='cik: 1156039\\nentityType: operating\\nsicDescription: Hospital & Medical Service Plans\\ntickers: ELV\\nexchanges: NYSE\\nein: 352145715\\ncategory: Large accelerated filer\\nstateOfIncorporation: IN\\nfiscalYearEnd: 1231\\n', metadata={'name': 'Elevance Health, Inc.'}),\n",
       " Document(page_content='cik: 1613103\\nentityType: operating\\nsicDescription: Electromedical & Electrotherapeutic Apparatus\\ntickers: MDT\\nexchanges: NYSE\\nein: 000000000\\ncategory: Large accelerated filer\\nstateOfIncorporation: \\nfiscalYearEnd: 0426\\n', metadata={'name': 'Medtronic plc'}),\n",
       " Document(page_content='cik: 316709\\nentityType: operating\\nsicDescription: Security Brokers, Dealers & Flotation Companies\\ntickers: SCHW, SCHW-PD, SCHW-PJ\\nexchanges: NYSE, NYSE, NYSE\\nein: 943025021\\ncategory: Large accelerated filer\\nstateOfIncorporation: DE\\nfiscalYearEnd: 1231\\n', metadata={'name': 'SCHWAB CHARLES CORP'}),\n",
       " Document(page_content='cik: 0000886982\\nentityType: operating\\nsicDescription: Security Brokers, Dealers & Flotation Companies\\ntickers: GS, GS-PA, GS-PD, GS-PK, GS-PC\\nexchanges: NYSE, NYSE, NYSE, NYSE, NYSE\\nein: 134019460\\ncategory: Large accelerated filer\\nstateOfIncorporation: DE\\nfiscalYearEnd: 1231\\n', metadata={'name': 'GOLDMAN SACHS GROUP INC'}),\n",
       " Document(page_content='cik: 0000310764\\nentityType: operating\\nsicDescription: Surgical & Medical Instruments & Apparatus\\ntickers: SYK\\nexchanges: NYSE\\nein: 381239739\\ncategory: Large accelerated filer\\nstateOfIncorporation: MI\\nfiscalYearEnd: 1231\\n', metadata={'name': 'STRYKER CORP'}),\n",
       " Document(page_content='cik: 8670\\nentityType: operating\\nsicDescription: Services-Computer Processing & Data Preparation\\ntickers: ADP\\nexchanges: Nasdaq\\nein: 221467904\\ncategory: Large accelerated filer\\nstateOfIncorporation: DE\\nfiscalYearEnd: 0630\\n', metadata={'name': 'AUTOMATIC DATA PROCESSING INC'}),\n",
       " Document(page_content='cik: 109198\\nentityType: operating\\nsicDescription: Retail-Family Clothing Stores\\ntickers: TJX\\nexchanges: NYSE\\nein: 042207613\\ncategory: Large accelerated filer\\nstateOfIncorporation: DE\\nfiscalYearEnd: 0201\\n', metadata={'name': 'TJX COMPANIES INC /DE/'}),\n",
       " Document(page_content='cik: 1035267\\nentityType: operating\\nsicDescription: Orthopedic, Prosthetic & Surgical Appliances & Supplies\\ntickers: ISRG\\nexchanges: Nasdaq\\nein: 770416458\\ncategory: Large accelerated filer\\nstateOfIncorporation: DE\\nfiscalYearEnd: 1231\\n', metadata={'name': 'INTUITIVE SURGICAL INC'}),\n",
       " Document(page_content='cik: 732717\\nentityType: operating\\nsicDescription: Telephone Communications (No Radiotelephone)\\ntickers: T, TBB, TBC, T-PA, T-PC\\nexchanges: NYSE, NYSE, NYSE, NYSE, NYSE\\nein: 431301883\\ncategory: Large accelerated filer\\nstateOfIncorporation: DE\\nfiscalYearEnd: 1231\\n', metadata={'name': 'AT&T INC.'}),\n",
       " Document(page_content='cik: 1364742\\nentityType: operating\\nsicDescription: Security Brokers, Dealers & Flotation Companies\\ntickers: BLK\\nexchanges: NYSE\\nein: 320174431\\ncategory: Large accelerated filer\\nstateOfIncorporation: DE\\nfiscalYearEnd: 1231\\n', metadata={'name': 'BlackRock Inc.'}),\n",
       " Document(page_content='cik: 1103982\\nentityType: operating\\nsicDescription: Food and Kindred Products\\ntickers: MDLZ\\nexchanges: Nasdaq\\nein: 522284372\\ncategory: Large accelerated filer\\nstateOfIncorporation: IL\\nfiscalYearEnd: 1231\\n', metadata={'name': 'Mondelez International, Inc.'}),\n",
       " Document(page_content='cik: 882095\\nentityType: operating\\nsicDescription: Biological Products, (No Diagnostic Substances)\\ntickers: GILD\\nexchanges: Nasdaq\\nein: 943047598\\ncategory: Large accelerated filer\\nstateOfIncorporation: DE\\nfiscalYearEnd: 1231\\n', metadata={'name': 'GILEAD SCIENCES, INC.'}),\n",
       " Document(page_content='cik: 62709\\nentityType: operating\\nsicDescription: Insurance Agents, Brokers & Service\\ntickers: MMC\\nexchanges: NYSE\\nein: 362668272\\ncategory: Large accelerated filer\\nstateOfIncorporation: DE\\nfiscalYearEnd: 1231\\n', metadata={'name': 'MARSH & MCLENNAN COMPANIES, INC.'}),\n",
       " Document(page_content='cik: 0000875320\\nentityType: operating\\nsicDescription: Pharmaceutical Preparations\\ntickers: VRTX\\nexchanges: Nasdaq\\nein: 043039129\\ncategory: Large accelerated filer\\nstateOfIncorporation: MA\\nfiscalYearEnd: 1231\\n', metadata={'name': 'VERTEX PHARMACEUTICALS INC / MA'}),\n",
       " Document(page_content='cik: 6281\\nentityType: operating\\nsicDescription: Semiconductors & Related Devices\\ntickers: ADI\\nexchanges: Nasdaq\\nein: 042348234\\ncategory: Large accelerated filer\\nstateOfIncorporation: MA\\nfiscalYearEnd: 1028\\n', metadata={'name': 'ANALOG DEVICES INC'}),\n",
       " Document(page_content='cik: 872589\\nentityType: operating\\nsicDescription: Pharmaceutical Preparations\\ntickers: REGN\\nexchanges: Nasdaq\\nein: 133444607\\ncategory: Large accelerated filer\\nstateOfIncorporation: NY\\nfiscalYearEnd: 1231\\n', metadata={'name': 'REGENERON PHARMACEUTICALS, INC.'}),\n",
       " Document(page_content='cik: 0000707549\\nentityType: operating\\nsicDescription: Special Industry Machinery, NEC\\ntickers: LRCX\\nexchanges: Nasdaq\\nein: 942634797\\ncategory: Large accelerated filer\\nstateOfIncorporation: DE\\nfiscalYearEnd: 0630\\n', metadata={'name': 'LAM RESEARCH CORP'}),\n",
       " Document(page_content='cik: 64803\\nentityType: operating\\nsicDescription: Retail-Drug Stores and Proprietary Stores\\ntickers: CVS\\nexchanges: NYSE\\nein: 050494040\\ncategory: Large accelerated filer\\nstateOfIncorporation: DE\\nfiscalYearEnd: 1231\\n', metadata={'name': 'CVS HEALTH Corp'}),\n",
       " Document(page_content='cik: 1551182\\nentityType: operating\\nsicDescription: Misc Industrial & Commercial Machinery & Equipment\\ntickers: ETN\\nexchanges: NYSE\\nein: 981059235\\ncategory: Large accelerated filer\\nstateOfIncorporation: \\nfiscalYearEnd: 1231\\n', metadata={'name': 'Eaton Corp plc'}),\n",
       " Document(page_content='cik: 1555280\\nentityType: operating\\nsicDescription: Pharmaceutical Preparations\\ntickers: ZTS\\nexchanges: NYSE\\nein: 460696167\\ncategory: Large accelerated filer\\nstateOfIncorporation: \\nfiscalYearEnd: 1231\\n', metadata={'name': 'Zoetis Inc.'}),\n",
       " Document(page_content='cik: 87347\\nentityType: operating\\nsicDescription: Oil & Gas Field Services, NEC\\ntickers: SLB\\nexchanges: NYSE\\nein: 520684746\\ncategory: Large accelerated filer\\nstateOfIncorporation: P8\\nfiscalYearEnd: 1231\\n', metadata={'name': 'SCHLUMBERGER LIMITED/NV'}),\n",
       " Document(page_content='cik: 1053507\\nentityType: operating\\nsicDescription: Real Estate Investment Trusts\\ntickers: AMT\\nexchanges: NYSE\\nein: 650723837\\ncategory: Large accelerated filer\\nstateOfIncorporation: DE\\nfiscalYearEnd: 1231\\n', metadata={'name': 'AMERICAN TOWER CORP /MA/'}),\n",
       " Document(page_content='cik: 896159\\nentityType: operating\\nsicDescription: Fire, Marine & Casualty Insurance\\ntickers: CB\\nexchanges: NYSE\\nein: 000000000\\ncategory: Large accelerated filer\\nstateOfIncorporation: V8\\nfiscalYearEnd: 1231\\n', metadata={'name': 'Chubb Ltd'}),\n",
       " Document(page_content='cik: 1739940\\nentityType: operating\\nsicDescription: Hospital & Medical Service Plans\\ntickers: CI\\nexchanges: NYSE\\nein: 824991898\\ncategory: Large accelerated filer\\nstateOfIncorporation: DE\\nfiscalYearEnd: 1231\\n', metadata={'name': 'Cigna Group'}),\n",
       " Document(page_content='cik: 0000831001\\nentityType: operating\\nsicDescription: National Commercial Banks\\ntickers: C, C-PJ, C-PK, C-PN\\nexchanges: NYSE, NYSE, NYSE, NYSE\\nein: 521568099\\ncategory: Large accelerated filer\\nstateOfIncorporation: DE\\nfiscalYearEnd: 1231\\n', metadata={'name': 'CITIGROUP INC'}),\n",
       " Document(page_content='cik: 10795\\nentityType: operating\\nsicDescription: Surgical & Medical Instruments & Apparatus\\ntickers: BDX\\nexchanges: NYSE\\nein: 220760120\\ncategory: Large accelerated filer\\nstateOfIncorporation: NJ\\nfiscalYearEnd: 0930\\n', metadata={'name': 'BECTON DICKINSON & CO'})]"
      ]
     },
     "execution_count": 7,
     "metadata": {},
     "output_type": "execute_result"
    }
   ],
   "source": [
    "data"
   ]
  },
  {
   "cell_type": "code",
   "execution_count": 8,
   "metadata": {},
   "outputs": [],
   "source": [
    "# split the documents into chunks\n",
    "text_splitter = RecursiveCharacterTextSplitter(chunk_size=1000, chunk_overlap=200)\n",
    "texts = text_splitter.split_documents(data)"
   ]
  },
  {
   "cell_type": "code",
   "execution_count": 9,
   "metadata": {},
   "outputs": [],
   "source": [
    "# select which embeddings we want to use\n",
    "os.environ[\"OPENAI_API_KEY\"] = \"api\"\n",
    "embeddings = OpenAIEmbeddings()"
   ]
  },
  {
   "cell_type": "code",
   "execution_count": 10,
   "metadata": {},
   "outputs": [],
   "source": [
    "# create the vectorestore to use as the index\n",
    "db = Chroma.from_documents(texts, embeddings)"
   ]
  },
  {
   "cell_type": "code",
   "execution_count": 11,
   "metadata": {},
   "outputs": [],
   "source": [
    "# expose this index in a retriever interface\n",
    "retriever = db.as_retriever(\n",
    "    search_type=\"similarity\", search_kwargs={\"k\": 5}\n",
    ")"
   ]
  },
  {
   "cell_type": "code",
   "execution_count": 12,
   "metadata": {},
   "outputs": [],
   "source": [
    "# create a chain to answer questions\n",
    "qa = RetrievalQA.from_chain_type(\n",
    "    llm=OpenAI(),\n",
    "    chain_type=\"map_reduce\",\n",
    "    retriever=retriever,\n",
    "    return_source_documents=True,\n",
    "    verbose=True,\n",
    ")"
   ]
  },
  {
   "cell_type": "code",
   "execution_count": 26,
   "metadata": {},
   "outputs": [
    {
     "name": "stdout",
     "output_type": "stream",
     "text": [
      "\n",
      "\n",
      "\u001b[1m> Entering new RetrievalQA chain...\u001b[0m\n",
      "\n",
      "\u001b[1m> Finished chain.\u001b[0m\n"
     ]
    },
    {
     "data": {
      "text/plain": [
       "{'query': \"What's Apple's ticker and exchange?\",\n",
       " 'result': \" Apple's ticker is AAPL and it is traded on the Nasdaq exchange.\",\n",
       " 'source_documents': [Document(page_content='cik: 320193\\nentityType: operating\\nsicDescription: Electronic Computers\\ntickers: AAPL\\nexchanges: Nasdaq\\nein: 942404110\\ncategory: Large accelerated filer\\nstateOfIncorporation: CA\\nfiscalYearEnd: 0930', metadata={'name': 'Apple Inc.'}),\n",
       "  Document(page_content='cik: 51143\\nentityType: operating\\nsicDescription: Computer & office Equipment\\ntickers: IBM\\nexchanges: NYSE\\nein: 130871985\\ncategory: Large accelerated filer\\nstateOfIncorporation: NY\\nfiscalYearEnd: 1231', metadata={'name': 'INTERNATIONAL BUSINESS MACHINES CORP'}),\n",
       "  Document(page_content='cik: 4962\\nentityType: operating\\nsicDescription: Finance Services\\ntickers: AXP\\nexchanges: NYSE\\nein: 134922250\\ncategory: Large accelerated filer\\nstateOfIncorporation: NY\\nfiscalYearEnd: 1231', metadata={'name': 'AMERICAN EXPRESS CO'}),\n",
       "  Document(page_content='cik: 732717\\nentityType: operating\\nsicDescription: Telephone Communications (No Radiotelephone)\\ntickers: T, TBB, TBC, T-PA, T-PC\\nexchanges: NYSE, NYSE, NYSE, NYSE, NYSE\\nein: 431301883\\ncategory: Large accelerated filer\\nstateOfIncorporation: DE\\nfiscalYearEnd: 1231', metadata={'name': 'AT&T INC.'}),\n",
       "  Document(page_content='cik: 1065280\\nentityType: operating\\nsicDescription: Services-Video Tape Rental\\ntickers: NFLX\\nexchanges: Nasdaq\\nein: 770467272\\ncategory: Large accelerated filer\\nstateOfIncorporation: DE\\nfiscalYearEnd: 1231', metadata={'name': 'NETFLIX INC'})]}"
      ]
     },
     "execution_count": 26,
     "metadata": {},
     "output_type": "execute_result"
    }
   ],
   "source": [
    "qa(\"What's Apple's ticker and exchange?\")"
   ]
  },
  {
   "cell_type": "code",
   "execution_count": null,
   "metadata": {},
   "outputs": [],
   "source": []
  },
  {
   "cell_type": "code",
   "execution_count": null,
   "metadata": {},
   "outputs": [],
   "source": []
  },
  {
   "cell_type": "code",
   "execution_count": null,
   "metadata": {},
   "outputs": [],
   "source": []
  },
  {
   "cell_type": "code",
   "execution_count": null,
   "metadata": {},
   "outputs": [],
   "source": []
  }
 ],
 "metadata": {
  "kernelspec": {
   "display_name": "python311",
   "language": "python",
   "name": "python3"
  },
  "language_info": {
   "codemirror_mode": {
    "name": "ipython",
    "version": 3
   },
   "file_extension": ".py",
   "mimetype": "text/x-python",
   "name": "python",
   "nbconvert_exporter": "python",
   "pygments_lexer": "ipython3",
   "version": "3.11.5"
  }
 },
 "nbformat": 4,
 "nbformat_minor": 2
}
