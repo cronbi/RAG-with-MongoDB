{
 "cells": [
  {
   "cell_type": "code",
   "execution_count": 3,
   "metadata": {},
   "outputs": [
    {
     "name": "stdout",
     "output_type": "stream",
     "text": [
      "Intel MKL WARNING: Support of Intel(R) Streaming SIMD Extensions 4.2 (Intel(R) SSE4.2) enabled only processors has been deprecated. Intel oneAPI Math Kernel Library 2025.0 will require Intel(R) Advanced Vector Extensions (Intel(R) AVX) instructions.\n",
      "Intel MKL WARNING: Support of Intel(R) Streaming SIMD Extensions 4.2 (Intel(R) SSE4.2) enabled only processors has been deprecated. Intel oneAPI Math Kernel Library 2025.0 will require Intel(R) Advanced Vector Extensions (Intel(R) AVX) instructions.\n"
     ]
    },
    {
     "name": "stderr",
     "output_type": "stream",
     "text": [
      "/Users/qlin/opt/anaconda3/envs/python311/lib/python3.11/site-packages/pinecone/index.py:4: TqdmWarning: IProgress not found. Please update jupyter and ipywidgets. See https://ipywidgets.readthedocs.io/en/stable/user_install.html\n",
      "  from tqdm.autonotebook import tqdm\n"
     ]
    }
   ],
   "source": [
    "import json\n",
    "import os\n",
    "import openai\n",
    "import pinecone\n",
    "from langchain.text_splitter import RecursiveCharacterTextSplitter\n",
    "from langchain.document_loaders import UnstructuredFileLoader\n",
    "from langchain.embeddings.openai import OpenAIEmbeddings\n",
    "from langchain.vectorstores import Pinecone"
   ]
  },
  {
   "cell_type": "code",
   "execution_count": 4,
   "metadata": {},
   "outputs": [],
   "source": [
    "os.environ[\"OPENAI_API_KEY\"] = \"api\"\n",
    "\n",
    "os.environ['PINECONE_API_KEY'] = \"api\""
   ]
  },
  {
   "cell_type": "code",
   "execution_count": 5,
   "metadata": {},
   "outputs": [],
   "source": [
    "openai.api_key = \"api\""
   ]
  },
  {
   "cell_type": "code",
   "execution_count": 6,
   "metadata": {},
   "outputs": [
    {
     "name": "stderr",
     "output_type": "stream",
     "text": [
      "100%|██████████| 1/1 [00:00<00:00, 34.04it/s]\n"
     ]
    }
   ],
   "source": [
    "from langchain.document_loaders import DirectoryLoader, TextLoader\n",
    "loader = DirectoryLoader('/Users/qlin/Desktop/Fall2023/NoSQL/Project/Final_Project', glob='**/*.json', show_progress=True, loader_cls=TextLoader)\n",
    "\n",
    "documents = loader.load()"
   ]
  },
  {
   "cell_type": "code",
   "execution_count": 3,
   "metadata": {},
   "outputs": [],
   "source": [
    "loader = UnstructuredFileLoader(\n",
    "    \"/Users/qlin/Desktop/Fall2023/NoSQL/Project/Final_Project/filingMetadata.json\"\n",
    "    #post_processors=[clean_extra_whitespace],\n",
    ")\n",
    "documents = loader.load()"
   ]
  },
  {
   "cell_type": "code",
   "execution_count": 7,
   "metadata": {},
   "outputs": [],
   "source": [
    "# split the documents into chunks\n",
    "text_splitter = RecursiveCharacterTextSplitter(chunk_size=1000, chunk_overlap=200)\n",
    "texts = text_splitter.split_documents(documents)\n",
    "\n",
    "embeddings = OpenAIEmbeddings()"
   ]
  },
  {
   "cell_type": "code",
   "execution_count": 8,
   "metadata": {},
   "outputs": [],
   "source": [
    "# Pinecone Environment Variable\n",
    "pinecone.init(      \n",
    "\tapi_key='api',      \n",
    "\tenvironment='gcp-starter'      \n",
    ")      \n",
    "index = pinecone.Index('nosql-project')"
   ]
  },
  {
   "cell_type": "code",
   "execution_count": 9,
   "metadata": {},
   "outputs": [],
   "source": [
    "limit = 3600\n",
    "embed_model = \"text-embedding-ada-002\"\n",
    "\n",
    "def retrieve(query):\n",
    "    res = openai.Embedding.create(\n",
    "        input=[query],\n",
    "        engine=embed_model\n",
    "    )\n",
    "\n",
    "    # retrieve from Pinecone\n",
    "    xq = res['data'][0]['embedding']\n",
    "\n",
    "    # get relevant contexts\n",
    "    res = index.query(xq, top_k=3, include_metadata=True)\n",
    "    contexts = [\n",
    "        x['metadata']['text'] for x in res['matches']\n",
    "    ]\n",
    "\n",
    "    # build our prompt with the retrieved contexts included\n",
    "    prompt_start = (\n",
    "        \"Given the contextual information and not prior knowledge, answer the question. If the answer is not in the context, inform the user that you can't answer the question.\\n\\n\"+\n",
    "        \"Context:\\n\"\n",
    "    )\n",
    "    prompt_end = (\n",
    "        f\"\\n\\nQuestion: {query}\\nAnswer:\"\n",
    "    )\n",
    "    # append contexts until hitting limit\n",
    "    for i in range(1, len(contexts)):\n",
    "        if len(\"\\n\\n---\\n\\n\".join(contexts[:i])) >= limit:\n",
    "            prompt = (\n",
    "                prompt_start +\n",
    "                \"\\n\\n---\\n\\n\".join(contexts[:i-1]) +\n",
    "                prompt_end\n",
    "            )\n",
    "            break\n",
    "        elif i == len(contexts)-1:\n",
    "            prompt = (\n",
    "                prompt_start +\n",
    "                \"\\n\\n---\\n\\n\".join(contexts) +\n",
    "                prompt_end\n",
    "            )\n",
    "    return prompt"
   ]
  },
  {
   "cell_type": "code",
   "execution_count": 7,
   "metadata": {},
   "outputs": [],
   "source": [
    "# first let's make it simpler to get answers\n",
    "def complete(prompt):\n",
    "    # query text-davinci-003\n",
    "    res = openai.Completion.create(\n",
    "        engine='text-davinci-003',\n",
    "        prompt=prompt,\n",
    "        temperature=0,\n",
    "        max_tokens=400,\n",
    "        top_p=1,\n",
    "        frequency_penalty=0,\n",
    "        presence_penalty=0,\n",
    "        stop=None\n",
    "    )\n",
    "    return res['choices'][0]['text'].strip()"
   ]
  },
  {
   "cell_type": "code",
   "execution_count": 10,
   "metadata": {},
   "outputs": [],
   "source": [
    "query = \"Which exchange is Apple's stock traded on\""
   ]
  },
  {
   "cell_type": "code",
   "execution_count": 11,
   "metadata": {},
   "outputs": [
    {
     "ename": "UnboundLocalError",
     "evalue": "cannot access local variable 'prompt' where it is not associated with a value",
     "output_type": "error",
     "traceback": [
      "\u001b[0;31m---------------------------------------------------------------------------\u001b[0m",
      "\u001b[0;31mUnboundLocalError\u001b[0m                         Traceback (most recent call last)",
      "\u001b[1;32m/Users/qlin/Desktop/Fall2023/NoSQL/Project/Final_Project/Unstructured_RAG.ipynb Cell 13\u001b[0m line \u001b[0;36m2\n\u001b[1;32m      <a href='vscode-notebook-cell:/Users/qlin/Desktop/Fall2023/NoSQL/Project/Final_Project/Unstructured_RAG.ipynb#X16sZmlsZQ%3D%3D?line=0'>1</a>\u001b[0m \u001b[39m# first we retrieve relevant items from Pinecone\u001b[39;00m\n\u001b[0;32m----> <a href='vscode-notebook-cell:/Users/qlin/Desktop/Fall2023/NoSQL/Project/Final_Project/Unstructured_RAG.ipynb#X16sZmlsZQ%3D%3D?line=1'>2</a>\u001b[0m query_with_contexts \u001b[39m=\u001b[39m retrieve(query)\n\u001b[1;32m      <a href='vscode-notebook-cell:/Users/qlin/Desktop/Fall2023/NoSQL/Project/Final_Project/Unstructured_RAG.ipynb#X16sZmlsZQ%3D%3D?line=2'>3</a>\u001b[0m query_with_contexts\n",
      "\u001b[1;32m/Users/qlin/Desktop/Fall2023/NoSQL/Project/Final_Project/Unstructured_RAG.ipynb Cell 13\u001b[0m line \u001b[0;36m4\n\u001b[1;32m     <a href='vscode-notebook-cell:/Users/qlin/Desktop/Fall2023/NoSQL/Project/Final_Project/Unstructured_RAG.ipynb#X16sZmlsZQ%3D%3D?line=35'>36</a>\u001b[0m     \u001b[39melif\u001b[39;00m i \u001b[39m==\u001b[39m \u001b[39mlen\u001b[39m(contexts)\u001b[39m-\u001b[39m\u001b[39m1\u001b[39m:\n\u001b[1;32m     <a href='vscode-notebook-cell:/Users/qlin/Desktop/Fall2023/NoSQL/Project/Final_Project/Unstructured_RAG.ipynb#X16sZmlsZQ%3D%3D?line=36'>37</a>\u001b[0m         prompt \u001b[39m=\u001b[39m (\n\u001b[1;32m     <a href='vscode-notebook-cell:/Users/qlin/Desktop/Fall2023/NoSQL/Project/Final_Project/Unstructured_RAG.ipynb#X16sZmlsZQ%3D%3D?line=37'>38</a>\u001b[0m             prompt_start \u001b[39m+\u001b[39m\n\u001b[1;32m     <a href='vscode-notebook-cell:/Users/qlin/Desktop/Fall2023/NoSQL/Project/Final_Project/Unstructured_RAG.ipynb#X16sZmlsZQ%3D%3D?line=38'>39</a>\u001b[0m             \u001b[39m\"\u001b[39m\u001b[39m\\n\u001b[39;00m\u001b[39m\\n\u001b[39;00m\u001b[39m---\u001b[39m\u001b[39m\\n\u001b[39;00m\u001b[39m\\n\u001b[39;00m\u001b[39m\"\u001b[39m\u001b[39m.\u001b[39mjoin(contexts) \u001b[39m+\u001b[39m\n\u001b[1;32m     <a href='vscode-notebook-cell:/Users/qlin/Desktop/Fall2023/NoSQL/Project/Final_Project/Unstructured_RAG.ipynb#X16sZmlsZQ%3D%3D?line=39'>40</a>\u001b[0m             prompt_end\n\u001b[1;32m     <a href='vscode-notebook-cell:/Users/qlin/Desktop/Fall2023/NoSQL/Project/Final_Project/Unstructured_RAG.ipynb#X16sZmlsZQ%3D%3D?line=40'>41</a>\u001b[0m         )\n\u001b[0;32m---> <a href='vscode-notebook-cell:/Users/qlin/Desktop/Fall2023/NoSQL/Project/Final_Project/Unstructured_RAG.ipynb#X16sZmlsZQ%3D%3D?line=41'>42</a>\u001b[0m \u001b[39mreturn\u001b[39;00m prompt\n",
      "\u001b[0;31mUnboundLocalError\u001b[0m: cannot access local variable 'prompt' where it is not associated with a value"
     ]
    }
   ],
   "source": [
    "# first we retrieve relevant items from Pinecone\n",
    "query_with_contexts = retrieve(query)\n",
    "query_with_contexts"
   ]
  },
  {
   "cell_type": "code",
   "execution_count": null,
   "metadata": {},
   "outputs": [],
   "source": [
    "# then we complete the context-infused query\n",
    "complete(query_with_contexts)"
   ]
  }
 ],
 "metadata": {
  "kernelspec": {
   "display_name": "python311",
   "language": "python",
   "name": "python3"
  },
  "language_info": {
   "codemirror_mode": {
    "name": "ipython",
    "version": 3
   },
   "file_extension": ".py",
   "mimetype": "text/x-python",
   "name": "python",
   "nbconvert_exporter": "python",
   "pygments_lexer": "ipython3",
   "version": "3.11.5"
  }
 },
 "nbformat": 4,
 "nbformat_minor": 2
}
